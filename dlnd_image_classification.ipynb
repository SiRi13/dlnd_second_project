{
 "cells": [
  {
   "cell_type": "markdown",
   "metadata": {
    "collapsed": true,
    "deletable": true,
    "editable": true
   },
   "source": [
    "# Image Classification\n",
    "In this project, you'll classify images from the [CIFAR-10 dataset](https://www.cs.toronto.edu/~kriz/cifar.html).  The dataset consists of airplanes, dogs, cats, and other objects. You'll preprocess the images, then train a convolutional neural network on all the samples. The images need to be normalized and the labels need to be one-hot encoded.  You'll get to apply what you learned and build a convolutional, max pooling, dropout, and fully connected layers.  At the end, you'll get to see your neural network's predictions on the sample images.\n",
    "## Get the Data\n",
    "Run the following cell to download the [CIFAR-10 dataset for python](https://www.cs.toronto.edu/~kriz/cifar-10-python.tar.gz)."
   ]
  },
  {
   "cell_type": "code",
   "execution_count": 1,
   "metadata": {
    "collapsed": true,
    "deletable": true,
    "editable": true
   },
   "outputs": [],
   "source": [
    "\"\"\"\n",
    "DON'T MODIFY ANYTHING IN THIS CELL THAT IS BELOW THIS LINE\n",
    "\"\"\"\n",
    "from urllib.request import urlretrieve\n",
    "from os.path import isfile, isdir\n",
    "from tqdm import tqdm\n",
    "import problem_unittests as tests\n",
    "import tarfile"
   ]
  },
  {
   "cell_type": "code",
   "execution_count": 2,
   "metadata": {
    "collapsed": false,
    "deletable": true,
    "editable": true
   },
   "outputs": [
    {
     "name": "stderr",
     "output_type": "stream",
     "text": [
      "CIFAR-10 Dataset: 171MB [00:26, 6.48MB/s]                              \n"
     ]
    },
    {
     "name": "stdout",
     "output_type": "stream",
     "text": [
      "All files found!\n"
     ]
    }
   ],
   "source": [
    "cifar10_dataset_folder_path = 'cifar-10-batches-py'\n",
    "\n",
    "class DLProgress(tqdm):\n",
    "    last_block = 0\n",
    "\n",
    "    def hook(self, block_num=1, block_size=1, total_size=None):\n",
    "        self.total = total_size\n",
    "        self.update((block_num - self.last_block) * block_size)\n",
    "        self.last_block = block_num\n",
    "\n",
    "if not isfile('cifar-10-python.tar.gz'):\n",
    "    with DLProgress(unit='B', unit_scale=True, miniters=1, desc='CIFAR-10 Dataset') as pbar:\n",
    "        urlretrieve(\n",
    "            'https://www.cs.toronto.edu/~kriz/cifar-10-python.tar.gz',\n",
    "            'cifar-10-python.tar.gz',\n",
    "            pbar.hook)\n",
    "\n",
    "if not isdir(cifar10_dataset_folder_path):\n",
    "    with tarfile.open('cifar-10-python.tar.gz') as tar:\n",
    "        tar.extractall()\n",
    "        tar.close()\n",
    "\n",
    "\n",
    "tests.test_folder_path(cifar10_dataset_folder_path)"
   ]
  },
  {
   "cell_type": "markdown",
   "metadata": {
    "deletable": true,
    "editable": true
   },
   "source": [
    "## Explore the Data\n",
    "The dataset is broken into batches to prevent your machine from running out of memory.  The CIFAR-10 dataset consists of 5 batches, named `data_batch_1`, `data_batch_2`, etc.. Each batch contains the labels and images that are one of the following:\n",
    "* airplane\n",
    "* automobile\n",
    "* bird\n",
    "* cat\n",
    "* deer\n",
    "* dog\n",
    "* frog\n",
    "* horse\n",
    "* ship\n",
    "* truck\n",
    "\n",
    "Understanding a dataset is part of making predictions on the data.  Play around with the code cell below by changing the `batch_id` and `sample_id`. The `batch_id` is the id for a batch (1-5). The `sample_id` is the id for a image and label pair in the batch.\n",
    "\n",
    "Ask yourself \"What are all possible labels?\", \"What is the range of values for the image data?\", \"Are the labels in order or random?\".  Answers to questions like these will help you preprocess the data and end up with better predictions."
   ]
  },
  {
   "cell_type": "code",
   "execution_count": 3,
   "metadata": {
    "collapsed": false,
    "deletable": true,
    "editable": true
   },
   "outputs": [],
   "source": [
    "%matplotlib inline\n",
    "%config InlineBackend.figure_format = 'retina'\n",
    "\n",
    "import helper\n",
    "import numpy as np"
   ]
  },
  {
   "cell_type": "code",
   "execution_count": 4,
   "metadata": {
    "collapsed": false,
    "deletable": true,
    "editable": true
   },
   "outputs": [
    {
     "name": "stdout",
     "output_type": "stream",
     "text": [
      "\n",
      "Stats of batch 1:\n",
      "Samples: 10000\n",
      "Label Counts: {0: 1005, 1: 974, 2: 1032, 3: 1016, 4: 999, 5: 937, 6: 1030, 7: 1001, 8: 1025, 9: 981}\n",
      "First 20 Labels: [6, 9, 9, 4, 1, 1, 2, 7, 8, 3, 4, 7, 7, 2, 9, 9, 9, 3, 2, 6]\n",
      "\n",
      "Example of Image 5:\n",
      "Image - Min Value: 0 Max Value: 252\n",
      "Image - Shape: (32, 32, 3)\n",
      "Label - Label Id: 1 Name: automobile\n"
     ]
    },
    {
     "data": {
      "image/png": "[encoded data removed]",
      "text/plain": [
       "<matplotlib.figure.Figure at 0x7ff503f91588>"
      ]
     },
     "metadata": {
      "image/png": {
       "height": 250,
       "width": 253
      }
     },
     "output_type": "display_data"
    }
   ],
   "source": [
    "# Explore the dataset\n",
    "batch_id = 1\n",
    "sample_id = 5\n",
    "helper.display_stats(cifar10_dataset_folder_path, batch_id, sample_id)"
   ]
  },
  {
   "cell_type": "markdown",
   "metadata": {
    "deletable": true,
    "editable": true
   },
   "source": [
    "## Implement Preprocess Functions\n",
    "### Normalize\n",
    "In the cell below, implement the `normalize` function to take in image data, `x`, and return it as a normalized Numpy array. The values should be in the range of 0 to 1, inclusive.  The return object should be the same shape as `x`."
   ]
  },
  {
   "cell_type": "code",
   "execution_count": 5,
   "metadata": {
    "collapsed": false,
    "deletable": true,
    "editable": true
   },
   "outputs": [
    {
     "name": "stdout",
     "output_type": "stream",
     "text": [
      "Tests Passed\n"
     ]
    }
   ],
   "source": [
    "def normalize(x):\n",
    "    \"\"\"\n",
    "    Normalize a list of sample image data in the range of 0 to 1\n",
    "    : x: List of image data.  The image shape is (32, 32, 3)\n",
    "    : return: Numpy array of normalize data\n",
    "    \"\"\"\n",
    "    # TODO: Implement Function\n",
    "    return x / 255.0\n",
    "\n",
    "\"\"\"\n",
    "DON'T MODIFY ANYTHING IN THIS CELL THAT IS BELOW THIS LINE\n",
    "\"\"\"\n",
    "tests.test_normalize(normalize)"
   ]
  },
  {
   "cell_type": "markdown",
   "metadata": {
    "deletable": true,
    "editable": true
   },
   "source": [
    "### One-hot encode\n",
    "Just like the previous code cell, you'll be implementing a function for preprocessing.  This time, you'll implement the `one_hot_encode` function. The input, `x`, are a list of labels.  Implement the function to return the list of labels as One-Hot encoded Numpy array.  The possible values for labels are 0 to 9. The one-hot encoding function should return the same encoding for each value between each call to `one_hot_encode`.  Make sure to save the map of encodings outside the function.\n",
    "\n",
    "Hint: Don't reinvent the wheel."
   ]
  },
  {
   "cell_type": "code",
   "execution_count": 6,
   "metadata": {
    "collapsed": false,
    "deletable": true,
    "editable": true
   },
   "outputs": [
    {
     "name": "stdout",
     "output_type": "stream",
     "text": [
      "Tests Passed\n"
     ]
    }
   ],
   "source": [
    "def one_hot_encode(x):\n",
    "    \"\"\"\n",
    "    One hot encode a list of sample labels. Return a one-hot encoded vector for each label.\n",
    "    : x: List of sample Labels\n",
    "    : return: Numpy array of one-hot encoded labels\n",
    "    \"\"\"\n",
    "    # TODO: Implement Function\n",
    "    retVal = np.zeros((len(x), 10))\n",
    "    for idx, lbl in enumerate(x):\n",
    "        retVal[idx][lbl] = 1.\n",
    "        \n",
    "    return retVal\n",
    "\n",
    "\n",
    "\"\"\"\n",
    "DON'T MODIFY ANYTHING IN THIS CELL THAT IS BELOW THIS LINE\n",
    "\"\"\"\n",
    "tests.test_one_hot_encode(one_hot_encode)"
   ]
  },
  {
   "cell_type": "markdown",
   "metadata": {
    "deletable": true,
    "editable": true
   },
   "source": [
    "### Randomize Data\n",
    "As you saw from exploring the data above, the order of the samples are randomized.  It doesn't hurt to randomize it again, but you don't need to for this dataset."
   ]
  },
  {
   "cell_type": "markdown",
   "metadata": {
    "deletable": true,
    "editable": true
   },
   "source": [
    "## Preprocess all the data and save it\n",
    "Running the code cell below will preprocess all the CIFAR-10 data and save it to file. The code below also uses 10% of the training data for validation."
   ]
  },
  {
   "cell_type": "code",
   "execution_count": 7,
   "metadata": {
    "collapsed": false,
    "deletable": true,
    "editable": true
   },
   "outputs": [],
   "source": [
    "\"\"\"\n",
    "DON'T MODIFY ANYTHING IN THIS CELL\n",
    "\"\"\"\n",
    "# Preprocess Training, Validation, and Testing Data\n",
    "helper.preprocess_and_save_data(cifar10_dataset_folder_path, normalize, one_hot_encode)"
   ]
  },
  {
   "cell_type": "markdown",
   "metadata": {
    "deletable": true,
    "editable": true
   },
   "source": [
    "# Check Point\n",
    "This is your first checkpoint.  If you ever decide to come back to this notebook or have to restart the notebook, you can start from here.  The preprocessed data has been saved to disk."
   ]
  },
  {
   "cell_type": "code",
   "execution_count": 8,
   "metadata": {
    "collapsed": true,
    "deletable": true,
    "editable": true
   },
   "outputs": [],
   "source": [
    "\"\"\"\n",
    "DON'T MODIFY ANYTHING IN THIS CELL\n",
    "\"\"\"\n",
    "import pickle\n",
    "import problem_unittests as tests\n",
    "import helper\n",
    "\n",
    "# Load the Preprocessed Validation data\n",
    "valid_features, valid_labels = pickle.load(open('preprocess_validation.p', mode='rb'))"
   ]
  },
  {
   "cell_type": "markdown",
   "metadata": {
    "deletable": true,
    "editable": true
   },
   "source": [
    "## Build the network\n",
    "For the neural network, you'll build each layer into a function.  Most of the code you've seen has been outside of functions. To test your code more thoroughly, we require that you put each layer in a function.  This allows us to give you better feedback and test for simple mistakes using our unittests before you submit your project.\n",
    "\n",
    "If you're finding it hard to dedicate enough time for this course a week, we've provided a small shortcut to this part of the project. In the next couple of problems, you'll have the option to use [TensorFlow Layers](https://www.tensorflow.org/api_docs/python/tf/layers) or [TensorFlow Layers (contrib)](https://www.tensorflow.org/api_guides/python/contrib.layers) to build each layer, except \"Convolutional & Max Pooling\" layer.  TF Layers is similar to Keras's and TFLearn's abstraction to layers, so it's easy to pickup.\n",
    "\n",
    "If you would like to get the most of this course, try to solve all the problems without TF Layers.  Let's begin!\n",
    "### Input\n",
    "The neural network needs to read the image data, one-hot encoded labels, and dropout keep probability. Implement the following functions\n",
    "* Implement `neural_net_image_input`\n",
    " * Return a [TF Placeholder](https://www.tensorflow.org/api_docs/python/tf/placeholder)\n",
    " * Set the shape using `image_shape` with batch size set to `None`.\n",
    " * Name the TensorFlow placeholder \"x\" using the TensorFlow `name` parameter in the [TF Placeholder](https://www.tensorflow.org/api_docs/python/tf/placeholder).\n",
    "* Implement `neural_net_label_input`\n",
    " * Return a [TF Placeholder](https://www.tensorflow.org/api_docs/python/tf/placeholder)\n",
    " * Set the shape using `n_classes` with batch size set to `None`.\n",
    " * Name the TensorFlow placeholder \"y\" using the TensorFlow `name` parameter in the [TF Placeholder](https://www.tensorflow.org/api_docs/python/tf/placeholder).\n",
    "* Implement `neural_net_keep_prob_input`\n",
    " * Return a [TF Placeholder](https://www.tensorflow.org/api_docs/python/tf/placeholder) for dropout keep probability.\n",
    " * Name the TensorFlow placeholder \"keep_prob\" using the TensorFlow `name` parameter in the [TF Placeholder](https://www.tensorflow.org/api_docs/python/tf/placeholder).\n",
    "\n",
    "These names will be used at the end of the project to load your saved model.\n",
    "\n",
    "Note: `None` for shapes in TensorFlow allow for a dynamic size."
   ]
  },
  {
   "cell_type": "code",
   "execution_count": 9,
   "metadata": {
    "collapsed": false,
    "deletable": true,
    "editable": true
   },
   "outputs": [
    {
     "name": "stdout",
     "output_type": "stream",
     "text": [
      "Image Input Tests Passed.\n",
      "Label Input Tests Passed.\n",
      "Keep Prob Tests Passed.\n"
     ]
    }
   ],
   "source": [
    "import tensorflow as tf\n",
    "\n",
    "def neural_net_image_input(image_shape):\n",
    "    \"\"\"\n",
    "    Return a Tensor for a batch of image input\n",
    "    : image_shape: Shape of the images\n",
    "    : return: Tensor for image input.\n",
    "    \"\"\"\n",
    "    # TODO: Implement Function\n",
    "    return tf.placeholder(tf.float32, shape=(None, image_shape[0], image_shape[1], image_shape[2]), name='x')\n",
    "\n",
    "\n",
    "def neural_net_label_input(n_classes):\n",
    "    \"\"\"\n",
    "    Return a Tensor for a batch of label input\n",
    "    : n_classes: Number of classes\n",
    "    : return: Tensor for label input.\n",
    "    \"\"\"\n",
    "    # TODO: Implement Function\n",
    "    return tf.placeholder(tf.float32, shape=(None, n_classes), name='y')\n",
    "\n",
    "\n",
    "def neural_net_keep_prob_input():\n",
    "    \"\"\"\n",
    "    Return a Tensor for keep probability\n",
    "    : return: Tensor for keep probability.\n",
    "    \"\"\"\n",
    "    # TODO: Implement Function\n",
    "    return tf.placeholder(tf.float32, name='keep_prob')\n",
    "\n",
    "\n",
    "\"\"\"\n",
    "DON'T MODIFY ANYTHING IN THIS CELL THAT IS BELOW THIS LINE\n",
    "\"\"\"\n",
    "tf.reset_default_graph()\n",
    "tests.test_nn_image_inputs(neural_net_image_input)\n",
    "tests.test_nn_label_inputs(neural_net_label_input)\n",
    "tests.test_nn_keep_prob_inputs(neural_net_keep_prob_input)"
   ]
  },
  {
   "cell_type": "markdown",
   "metadata": {
    "deletable": true,
    "editable": true
   },
   "source": [
    "### Convolution and Max Pooling Layer\n",
    "Convolution layers have a lot of success with images. For this code cell, you should implement the function `conv2d_maxpool` to apply convolution then max pooling:\n",
    "* Create the weight and bias using `conv_ksize`, `conv_num_outputs` and the shape of `x_tensor`.\n",
    "* Apply a convolution to `x_tensor` using weight and `conv_strides`.\n",
    " * We recommend you use same padding, but you're welcome to use any padding.\n",
    "* Add bias\n",
    "* Add a nonlinear activation to the convolution.\n",
    "* Apply Max Pooling using `pool_ksize` and `pool_strides`.\n",
    " * We recommend you use same padding, but you're welcome to use any padding.\n",
    "\n",
    "Note: You **can't** use [TensorFlow Layers](https://www.tensorflow.org/api_docs/python/tf/layers) or [TensorFlow Layers (contrib)](https://www.tensorflow.org/api_guides/python/contrib.layers) for this layer.  You're free to use any TensorFlow package for all the other layers."
   ]
  },
  {
   "cell_type": "code",
   "execution_count": 10,
   "metadata": {
    "collapsed": false,
    "deletable": true,
    "editable": true
   },
   "outputs": [
    {
     "name": "stdout",
     "output_type": "stream",
     "text": [
      "Tests Passed\n"
     ]
    }
   ],
   "source": [
    "def conv2d_maxpool(x_tensor, conv_num_outputs, conv_ksize, conv_strides, pool_ksize, pool_strides):\n",
    "    \"\"\"\n",
    "    Apply convolution then max pooling to x_tensor\n",
    "    \n",
    "    :param x_tensor: TensorFlow Tensor\n",
    "    :param conv_num_outputs: Number of outputs for the convolutional layer\n",
    "    :param conv_ksize: kernal size 2-D Tuple for the convolutional layer\n",
    "    :param conv_strides: Stride 2-D Tuple for convolution\n",
    "    \n",
    "    :param pool_ksize: kernal size 2-D Tuple for pool\n",
    "    :param pool_strides: Stride 2-D Tuple for pool\n",
    "    \n",
    "    : return: A tensor that represents convolution and max pooling of x_tensor\n",
    "    \"\"\"\n",
    "    k_width, k_height = conv_ksize\n",
    "    in_depth = x_tensor.get_shape().as_list()[-1]\n",
    "    \n",
    "    W = tf.Variable(tf.truncated_normal([k_width, k_height, in_depth, conv_num_outputs], stddev=0.1))\n",
    "    b = tf.Variable(tf.zeros(conv_num_outputs))\n",
    "    \n",
    "    c_width, c_height = conv_strides\n",
    "    conv = tf.nn.conv2d(x_tensor, W, strides=[1, c_width, c_height, 1], padding='SAME')\n",
    "    conv = tf.nn.bias_add(conv, b)\n",
    "    conv = tf.nn.relu(conv)\n",
    "    \n",
    "    pk_width, pk_height = pool_ksize\n",
    "    ps_width, ps_height = pool_strides\n",
    "    pool = tf.nn.max_pool(conv, ksize=[1, pk_width, pk_height, 1], \n",
    "                          strides=[1, ps_width, ps_height, 1], padding='SAME')\n",
    "\n",
    "    return pool\n",
    "\n",
    "\n",
    "\"\"\"\n",
    "DON'T MODIFY ANYTHING IN THIS CELL THAT IS BELOW THIS LINE\n",
    "\"\"\"\n",
    "tests.test_con_pool(conv2d_maxpool)"
   ]
  },
  {
   "cell_type": "markdown",
   "metadata": {
    "deletable": true,
    "editable": true
   },
   "source": [
    "### Flatten Layer\n",
    "Implement the `flatten` function to change the dimension of `x_tensor` from a 4-D tensor to a 2-D tensor.  The output should be the shape (*Batch Size*, *Flattened Image Size*). You can use [TensorFlow Layers](https://www.tensorflow.org/api_docs/python/tf/layers) or [TensorFlow Layers (contrib)](https://www.tensorflow.org/api_guides/python/contrib.layers) for this layer."
   ]
  },
  {
   "cell_type": "code",
   "execution_count": 11,
   "metadata": {
    "collapsed": false,
    "deletable": true,
    "editable": true
   },
   "outputs": [
    {
     "name": "stdout",
     "output_type": "stream",
     "text": [
      "Tests Passed\n"
     ]
    }
   ],
   "source": [
    "def flatten(x_tensor):\n",
    "    \"\"\"\n",
    "    Flatten x_tensor to (Batch Size, Flattened Image Size)\n",
    "    : x_tensor: A tensor of size (Batch Size, ...), where ... are the image dimensions.\n",
    "    : return: A tensor of size (Batch Size, Flattened Image Size).\n",
    "    \"\"\"\n",
    "    # TODO: Implement Function\n",
    "    return tf.contrib.layers.flatten(x_tensor)\n",
    "\n",
    "\"\"\"\n",
    "DON'T MODIFY ANYTHING IN THIS CELL THAT IS BELOW THIS LINE\n",
    "\"\"\"\n",
    "tests.test_flatten(flatten)"
   ]
  },
  {
   "cell_type": "markdown",
   "metadata": {
    "deletable": true,
    "editable": true
   },
   "source": [
    "### Fully-Connected Layer\n",
    "Implement the `fully_conn` function to apply a fully connected layer to `x_tensor` with the shape (*Batch Size*, *num_outputs*). You can use [TensorFlow Layers](https://www.tensorflow.org/api_docs/python/tf/layers) or [TensorFlow Layers (contrib)](https://www.tensorflow.org/api_guides/python/contrib.layers) for this layer."
   ]
  },
  {
   "cell_type": "code",
   "execution_count": 12,
   "metadata": {
    "collapsed": false,
    "deletable": true,
    "editable": true
   },
   "outputs": [
    {
     "name": "stdout",
     "output_type": "stream",
     "text": [
      "Tests Passed\n"
     ]
    }
   ],
   "source": [
    "def fully_conn(x_tensor, num_outputs):\n",
    "    \"\"\"\n",
    "    Apply a fully connected layer to x_tensor using weight and bias\n",
    "    : x_tensor: A 2-D tensor where the first dimension is batch size.\n",
    "    : num_outputs: The number of output that the new tensor should be.\n",
    "    : return: A 2-D tensor where the second dimension is num_outputs.\n",
    "    \"\"\"\n",
    "    # TODO: Implement Function\n",
    "    return tf.contrib.layers.fully_connected(x_tensor, num_outputs=num_outputs)\n",
    "\n",
    "\"\"\"\n",
    "DON'T MODIFY ANYTHING IN THIS CELL THAT IS BELOW THIS LINE\n",
    "\"\"\"\n",
    "tests.test_fully_conn(fully_conn)"
   ]
  },
  {
   "cell_type": "markdown",
   "metadata": {
    "deletable": true,
    "editable": true
   },
   "source": [
    "### Output Layer\n",
    "Implement the `output` function to apply a fully connected layer to `x_tensor` with the shape (*Batch Size*, *num_outputs*). You can use [TensorFlow Layers](https://www.tensorflow.org/api_docs/python/tf/layers) or [TensorFlow Layers (contrib)](https://www.tensorflow.org/api_guides/python/contrib.layers) for this layer.\n",
    "\n",
    "Note: Activation, softmax, or cross entropy shouldn't be applied to this."
   ]
  },
  {
   "cell_type": "code",
   "execution_count": 13,
   "metadata": {
    "collapsed": false,
    "deletable": true,
    "editable": true
   },
   "outputs": [
    {
     "name": "stdout",
     "output_type": "stream",
     "text": [
      "Tests Passed\n"
     ]
    }
   ],
   "source": [
    "def output(x_tensor, num_outputs):\n",
    "    \"\"\"\n",
    "    Apply a output layer to x_tensor using weight and bias\n",
    "    : x_tensor: A 2-D tensor where the first dimension is batch size.\n",
    "    : num_outputs: The number of output that the new tensor should be.\n",
    "    : return: A 2-D tensor where the second dimension is num_outputs.\n",
    "    \"\"\"\n",
    "    # TODO: Implement Function\n",
    "    return tf.contrib.layers.fully_connected(x_tensor, num_outputs=num_outputs, activation_fn=None)\n",
    "\n",
    "\"\"\"\n",
    "DON'T MODIFY ANYTHING IN THIS CELL THAT IS BELOW THIS LINE\n",
    "\"\"\"\n",
    "tests.test_output(output)"
   ]
  },
  {
   "cell_type": "markdown",
   "metadata": {
    "deletable": true,
    "editable": true
   },
   "source": [
    "### Create Convolutional Model\n",
    "Implement the function `conv_net` to create a convolutional neural network model. The function takes in a batch of images, `x`, and outputs logits.  Use the layers you created above to create this model:\n",
    "\n",
    "* Apply 1, 2, or 3 Convolution and Max Pool layers\n",
    "* Apply a Flatten Layer\n",
    "* Apply 1, 2, or 3 Fully Connected Layers\n",
    "* Apply an Output Layer\n",
    "* Return the output\n",
    "* Apply [TensorFlow's Dropout](https://www.tensorflow.org/api_docs/python/tf/nn/dropout) to one or more layers in the model using `keep_prob`. "
   ]
  },
  {
   "cell_type": "code",
   "execution_count": 14,
   "metadata": {
    "collapsed": false,
    "deletable": true,
    "editable": true
   },
   "outputs": [
    {
     "name": "stdout",
     "output_type": "stream",
     "text": [
      "Neural Network Built!\n"
     ]
    }
   ],
   "source": [
    "def conv_net(x, keep_prob):\n",
    "    \"\"\"\n",
    "    Create a convolutional neural network model\n",
    "    : x: Placeholder tensor that holds image data.\n",
    "    : keep_prob: Placeholder tensor that hold dropout keep probability.\n",
    "    : return: Tensor that represents logits\n",
    "    \"\"\"\n",
    "    # TODO: Apply 1, 2, or 3 Convolution and Max Pool layers\n",
    "    #    Play around with different number of outputs, kernel size and stride\n",
    "    # Function Definition from Above:\n",
    "    #    conv2d_maxpool(x_tensor, conv_num_outputs, conv_ksize, conv_strides, pool_ksize, pool_strides)\n",
    "    \n",
    "    conv_kernel = (4,4)\n",
    "    conv_stride = (1,1)\n",
    "    pool_kernel = (2,2)\n",
    "    pool_stride = (2,2)\n",
    "    \n",
    "    num_out=16\n",
    "    l1 = conv2d_maxpool(x, num_out, conv_kernel, conv_stride, pool_kernel, pool_stride)\n",
    "    \n",
    "    num_out=32\n",
    "    l2 = conv2d_maxpool(l1, num_out, conv_kernel, conv_stride, pool_kernel, pool_stride)\n",
    "\n",
    "    num_out=64\n",
    "    l3 = conv2d_maxpool(l2, num_out, conv_kernel, conv_stride, pool_kernel, pool_stride)\n",
    "    \n",
    "    # TODO: Apply a Flatten Layer\n",
    "    # Function Definition from Above:\n",
    "    #   flatten(x_tensor)\n",
    "    l4 = flatten(l3)\n",
    "    \n",
    "    # TODO: Apply 1, 2, or 3 Fully Connected Layers\n",
    "    #    Play around with different number of outputs\n",
    "    # Function Definition from Above:\n",
    "    #   fully_conn(x_tensor, num_outputs)\n",
    "    l5 = fully_conn(l4, num_outputs=1024)\n",
    "    l5_drop = tf.nn.dropout(l5, keep_prob)\n",
    "    l6 = fully_conn(l5_drop, num_outputs=10)\n",
    "    l6_drop = tf.nn.dropout(l6, keep_prob)\n",
    "    \n",
    "    # TODO: Apply an Output Layer\n",
    "    #    Set this to the number of classes\n",
    "    # Function Definition from Above:\n",
    "    #   output(x_tensor, num_outputs)\n",
    "    out = output(l6_drop, num_outputs=10)\n",
    "    \n",
    "    # TODO: return output\n",
    "    return out\n",
    "\n",
    "\n",
    "\"\"\"\n",
    "DON'T MODIFY ANYTHING IN THIS CELL THAT IS BELOW THIS LINE\n",
    "\"\"\"\n",
    "\n",
    "##############################\n",
    "## Build the Neural Network ##\n",
    "##############################\n",
    "\n",
    "# Remove previous weights, bias, inputs, etc..\n",
    "tf.reset_default_graph()\n",
    "\n",
    "# Inputs\n",
    "x = neural_net_image_input((32, 32, 3))\n",
    "y = neural_net_label_input(10)\n",
    "keep_prob = neural_net_keep_prob_input()\n",
    "\n",
    "# Model\n",
    "logits = conv_net(x, keep_prob)\n",
    "\n",
    "# Name logits Tensor, so that is can be loaded from disk after training\n",
    "logits = tf.identity(logits, name='logits')\n",
    "\n",
    "# Loss and Optimizer\n",
    "cost = tf.reduce_mean(tf.nn.softmax_cross_entropy_with_logits(logits=logits, labels=y))\n",
    "optimizer = tf.train.AdamOptimizer().minimize(cost)\n",
    "\n",
    "# Accuracy\n",
    "correct_pred = tf.equal(tf.argmax(logits, 1), tf.argmax(y, 1))\n",
    "accuracy = tf.reduce_mean(tf.cast(correct_pred, tf.float32), name='accuracy')\n",
    "\n",
    "tests.test_conv_net(conv_net)"
   ]
  },
  {
   "cell_type": "markdown",
   "metadata": {
    "deletable": true,
    "editable": true
   },
   "source": [
    "## Train the Neural Network\n",
    "### Single Optimization\n",
    "Implement the function `train_neural_network` to do a single optimization.  The optimization should use `optimizer` to optimize in `session` with a `feed_dict` of the following:\n",
    "* `x` for image input\n",
    "* `y` for labels\n",
    "* `keep_prob` for keep probability for dropout\n",
    "\n",
    "This function will be called for each batch, so `tf.global_variables_initializer()` has already been called.\n",
    "\n",
    "Note: Nothing needs to be returned. This function is only optimizing the neural network."
   ]
  },
  {
   "cell_type": "code",
   "execution_count": 15,
   "metadata": {
    "collapsed": false,
    "deletable": true,
    "editable": true
   },
   "outputs": [
    {
     "name": "stdout",
     "output_type": "stream",
     "text": [
      "Tests Passed\n"
     ]
    }
   ],
   "source": [
    "def train_neural_network(session, optimizer, keep_probability, feature_batch, label_batch):\n",
    "    \"\"\"\n",
    "    Optimize the session on a batch of images and labels\n",
    "    : session: Current TensorFlow session\n",
    "    : optimizer: TensorFlow optimizer function\n",
    "    : keep_probability: keep probability\n",
    "    : feature_batch: Batch of Numpy image data\n",
    "    : label_batch: Batch of Numpy label data\n",
    "    \"\"\"\n",
    "    # TODO: Implement Function\n",
    "    session.run(optimizer,feed_dict={x:feature_batch, y:label_batch, keep_prob:keep_probability})\n",
    "\n",
    "\"\"\"\n",
    "DON'T MODIFY ANYTHING IN THIS CELL THAT IS BELOW THIS LINE\n",
    "\"\"\"\n",
    "tests.test_train_nn(train_neural_network)"
   ]
  },
  {
   "cell_type": "markdown",
   "metadata": {
    "deletable": true,
    "editable": true
   },
   "source": [
    "### Show Stats\n",
    "Implement the function `print_stats` to print loss and validation accuracy.  Use the global variables `valid_features` and `valid_labels` to calculate validation accuracy.  Use a keep probability of `1.0` to calculate the loss and validation accuracy."
   ]
  },
  {
   "cell_type": "code",
   "execution_count": 16,
   "metadata": {
    "collapsed": false,
    "deletable": true,
    "editable": true
   },
   "outputs": [],
   "source": [
    "def print_stats(session, feature_batch, label_batch, cost, accuracy):\n",
    "    global valid_labels\n",
    "    global valid_features\n",
    "    \"\"\"\n",
    "    Print information about loss and validation accuracy\n",
    "    : session: Current TensorFlow session\n",
    "    : feature_batch: Batch of Numpy image data\n",
    "    : label_batch: Batch of Numpy label data\n",
    "    : cost: TensorFlow cost function\n",
    "    : accuracy: TensorFlow accuracy function\n",
    "    \"\"\"\n",
    "    # TODO: Implement Function\n",
    "    loss = session.run(cost, feed_dict={x: feature_batch, y: label_batch, keep_prob: 1.})\n",
    "    acc = session.run(accuracy, feed_dict={x: valid_features, y: valid_labels, keep_prob: 1.})\n",
    "\n",
    "    print(\"Loss= {:.6f}, Accuracy={:.6f}\".format(loss, acc))"
   ]
  },
  {
   "cell_type": "markdown",
   "metadata": {
    "deletable": true,
    "editable": true
   },
   "source": [
    "### Hyperparameters\n",
    "Tune the following parameters:\n",
    "* Set `epochs` to the number of iterations until the network stops learning or start overfitting\n",
    "* Set `batch_size` to the highest number that your machine has memory for.  Most people set them to common sizes of memory:\n",
    " * 64\n",
    " * 128\n",
    " * 256\n",
    " * ...\n",
    "* Set `keep_probability` to the probability of keeping a node using dropout"
   ]
  },
  {
   "cell_type": "code",
   "execution_count": 17,
   "metadata": {
    "collapsed": true,
    "deletable": true,
    "editable": true
   },
   "outputs": [],
   "source": [
    "# TODO: Tune Parameters\n",
    "epochs = 50\n",
    "batch_size = 128\n",
    "keep_probability = 0.75"
   ]
  },
  {
   "cell_type": "markdown",
   "metadata": {
    "deletable": true,
    "editable": true
   },
   "source": [
    "### Train on a Single CIFAR-10 Batch\n",
    "Instead of training the neural network on all the CIFAR-10 batches of data, let's use a single batch. This should save time while you iterate on the model to get a better accuracy.  Once the final validation accuracy is 50% or greater, run the model on all the data in the next section."
   ]
  },
  {
   "cell_type": "code",
   "execution_count": 18,
   "metadata": {
    "collapsed": false,
    "deletable": true,
    "editable": true
   },
   "outputs": [
    {
     "name": "stdout",
     "output_type": "stream",
     "text": [
      "Checking the Training on a Single Batch...\n",
      "Epoch  1, CIFAR-10 Batch 1:  Loss= 2.233591, Accuracy=0.209000\n",
      "Epoch  2, CIFAR-10 Batch 1:  Loss= 1.968893, Accuracy=0.321200\n",
      "Epoch  3, CIFAR-10 Batch 1:  Loss= 1.748130, Accuracy=0.387400\n",
      "Epoch  4, CIFAR-10 Batch 1:  Loss= 1.616800, Accuracy=0.430200\n",
      "Epoch  5, CIFAR-10 Batch 1:  Loss= 1.480829, Accuracy=0.456000\n",
      "Epoch  6, CIFAR-10 Batch 1:  Loss= 1.302324, Accuracy=0.498000\n",
      "Epoch  7, CIFAR-10 Batch 1:  Loss= 1.145736, Accuracy=0.507600\n",
      "Epoch  8, CIFAR-10 Batch 1:  Loss= 1.032378, Accuracy=0.518800\n",
      "Epoch  9, CIFAR-10 Batch 1:  Loss= 0.939659, Accuracy=0.527800\n",
      "Epoch 10, CIFAR-10 Batch 1:  Loss= 0.906832, Accuracy=0.510800\n",
      "Epoch 11, CIFAR-10 Batch 1:  Loss= 0.850759, Accuracy=0.519600\n",
      "Epoch 12, CIFAR-10 Batch 1:  Loss= 0.771655, Accuracy=0.532800\n",
      "Epoch 13, CIFAR-10 Batch 1:  Loss= 0.727723, Accuracy=0.525400\n",
      "Epoch 14, CIFAR-10 Batch 1:  Loss= 0.620795, Accuracy=0.530400\n",
      "Epoch 15, CIFAR-10 Batch 1:  Loss= 0.545867, Accuracy=0.538200\n",
      "Epoch 16, CIFAR-10 Batch 1:  Loss= 0.517462, Accuracy=0.522000\n",
      "Epoch 17, CIFAR-10 Batch 1:  Loss= 0.449582, Accuracy=0.542200\n",
      "Epoch 18, CIFAR-10 Batch 1:  Loss= 0.405261, Accuracy=0.542200\n",
      "Epoch 19, CIFAR-10 Batch 1:  Loss= 0.394589, Accuracy=0.539400\n",
      "Epoch 20, CIFAR-10 Batch 1:  Loss= 0.397592, Accuracy=0.545000\n",
      "Epoch 21, CIFAR-10 Batch 1:  Loss= 0.363383, Accuracy=0.543800\n",
      "Epoch 22, CIFAR-10 Batch 1:  Loss= 0.330959, Accuracy=0.544000\n",
      "Epoch 23, CIFAR-10 Batch 1:  Loss= 0.262559, Accuracy=0.544600\n",
      "Epoch 24, CIFAR-10 Batch 1:  Loss= 0.217908, Accuracy=0.539200\n",
      "Epoch 25, CIFAR-10 Batch 1:  Loss= 0.183243, Accuracy=0.548000\n",
      "Epoch 26, CIFAR-10 Batch 1:  Loss= 0.166532, Accuracy=0.542000\n",
      "Epoch 27, CIFAR-10 Batch 1:  Loss= 0.165471, Accuracy=0.561200\n",
      "Epoch 28, CIFAR-10 Batch 1:  Loss= 0.162992, Accuracy=0.551200\n",
      "Epoch 29, CIFAR-10 Batch 1:  Loss= 0.120928, Accuracy=0.553000\n",
      "Epoch 30, CIFAR-10 Batch 1:  Loss= 0.116342, Accuracy=0.540000\n",
      "Epoch 31, CIFAR-10 Batch 1:  Loss= 0.074602, Accuracy=0.541600\n",
      "Epoch 32, CIFAR-10 Batch 1:  Loss= 0.078106, Accuracy=0.543200\n",
      "Epoch 33, CIFAR-10 Batch 1:  Loss= 0.056814, Accuracy=0.552600\n",
      "Epoch 34, CIFAR-10 Batch 1:  Loss= 0.066867, Accuracy=0.541200\n",
      "Epoch 35, CIFAR-10 Batch 1:  Loss= 0.055123, Accuracy=0.544000\n",
      "Epoch 36, CIFAR-10 Batch 1:  Loss= 0.051710, Accuracy=0.535600\n",
      "Epoch 37, CIFAR-10 Batch 1:  Loss= 0.052118, Accuracy=0.540400\n",
      "Epoch 38, CIFAR-10 Batch 1:  Loss= 0.038735, Accuracy=0.550000\n",
      "Epoch 39, CIFAR-10 Batch 1:  Loss= 0.031617, Accuracy=0.554600\n",
      "Epoch 40, CIFAR-10 Batch 1:  Loss= 0.032784, Accuracy=0.548000\n",
      "Epoch 41, CIFAR-10 Batch 1:  Loss= 0.028820, Accuracy=0.561200\n",
      "Epoch 42, CIFAR-10 Batch 1:  Loss= 0.026103, Accuracy=0.566000\n",
      "Epoch 43, CIFAR-10 Batch 1:  Loss= 0.027316, Accuracy=0.557000\n",
      "Epoch 44, CIFAR-10 Batch 1:  Loss= 0.028769, Accuracy=0.561600\n",
      "Epoch 45, CIFAR-10 Batch 1:  Loss= 0.025558, Accuracy=0.552200\n",
      "Epoch 46, CIFAR-10 Batch 1:  Loss= 0.017057, Accuracy=0.559800\n",
      "Epoch 47, CIFAR-10 Batch 1:  Loss= 0.019017, Accuracy=0.561200\n",
      "Epoch 48, CIFAR-10 Batch 1:  Loss= 0.014430, Accuracy=0.556200\n",
      "Epoch 49, CIFAR-10 Batch 1:  Loss= 0.021135, Accuracy=0.568600\n",
      "Epoch 50, CIFAR-10 Batch 1:  Loss= 0.015889, Accuracy=0.551800\n"
     ]
    }
   ],
   "source": [
    "\"\"\"\n",
    "DON'T MODIFY ANYTHING IN THIS CELL\n",
    "\"\"\"\n",
    "print('Checking the Training on a Single Batch...')\n",
    "with tf.Session() as sess:\n",
    "    # Initializing the variables\n",
    "    sess.run(tf.global_variables_initializer())\n",
    "    \n",
    "    # Training cycle\n",
    "    for epoch in range(epochs):\n",
    "        batch_i = 1\n",
    "        for batch_features, batch_labels in helper.load_preprocess_training_batch(batch_i, batch_size):\n",
    "            train_neural_network(sess, optimizer, keep_probability, batch_features, batch_labels)\n",
    "        print('Epoch {:>2}, CIFAR-10 Batch {}:  '.format(epoch + 1, batch_i), end='')\n",
    "        print_stats(sess, batch_features, batch_labels, cost, accuracy)"
   ]
  },
  {
   "cell_type": "markdown",
   "metadata": {
    "deletable": true,
    "editable": true
   },
   "source": [
    "### Fully Train the Model\n",
    "Now that you got a good accuracy with a single CIFAR-10 batch, try it with all five batches."
   ]
  },
  {
   "cell_type": "code",
   "execution_count": 19,
   "metadata": {
    "collapsed": false,
    "deletable": true,
    "editable": true
   },
   "outputs": [
    {
     "name": "stdout",
     "output_type": "stream",
     "text": [
      "Training...\n",
      "Epoch  1, CIFAR-10 Batch 1:  Loss= 2.170559, Accuracy=0.159400\n",
      "Epoch  1, CIFAR-10 Batch 2:  Loss= 2.274813, Accuracy=0.218000\n",
      "Epoch  1, CIFAR-10 Batch 3:  Loss= 1.886065, Accuracy=0.234000\n",
      "Epoch  1, CIFAR-10 Batch 4:  Loss= 1.988297, Accuracy=0.262400\n",
      "Epoch  1, CIFAR-10 Batch 5:  Loss= 1.872297, Accuracy=0.276000\n",
      "Epoch  2, CIFAR-10 Batch 1:  Loss= 1.996708, Accuracy=0.273200\n",
      "Epoch  2, CIFAR-10 Batch 2:  Loss= 1.805971, Accuracy=0.362400\n",
      "Epoch  2, CIFAR-10 Batch 3:  Loss= 1.445193, Accuracy=0.384600\n",
      "Epoch  2, CIFAR-10 Batch 4:  Loss= 1.644678, Accuracy=0.376400\n",
      "Epoch  2, CIFAR-10 Batch 5:  Loss= 1.666327, Accuracy=0.353600\n",
      "Epoch  3, CIFAR-10 Batch 1:  Loss= 1.637370, Accuracy=0.412400\n",
      "Epoch  3, CIFAR-10 Batch 2:  Loss= 1.648543, Accuracy=0.431400\n",
      "Epoch  3, CIFAR-10 Batch 3:  Loss= 1.306188, Accuracy=0.452200\n",
      "Epoch  3, CIFAR-10 Batch 4:  Loss= 1.476980, Accuracy=0.486400\n",
      "Epoch  3, CIFAR-10 Batch 5:  Loss= 1.389547, Accuracy=0.502600\n",
      "Epoch  4, CIFAR-10 Batch 1:  Loss= 1.355241, Accuracy=0.477600\n",
      "Epoch  4, CIFAR-10 Batch 2:  Loss= 1.368042, Accuracy=0.529800\n",
      "Epoch  4, CIFAR-10 Batch 3:  Loss= 1.237201, Accuracy=0.536600\n",
      "Epoch  4, CIFAR-10 Batch 4:  Loss= 1.374242, Accuracy=0.547400\n",
      "Epoch  4, CIFAR-10 Batch 5:  Loss= 1.215770, Accuracy=0.536600\n",
      "Epoch  5, CIFAR-10 Batch 1:  Loss= 1.179718, Accuracy=0.541600\n",
      "Epoch  5, CIFAR-10 Batch 2:  Loss= 1.110819, Accuracy=0.561200\n",
      "Epoch  5, CIFAR-10 Batch 3:  Loss= 0.884817, Accuracy=0.566000\n",
      "Epoch  5, CIFAR-10 Batch 4:  Loss= 1.198265, Accuracy=0.567800\n",
      "Epoch  5, CIFAR-10 Batch 5:  Loss= 0.947458, Accuracy=0.575600\n",
      "Epoch  6, CIFAR-10 Batch 1:  Loss= 0.935998, Accuracy=0.597000\n",
      "Epoch  6, CIFAR-10 Batch 2:  Loss= 0.941935, Accuracy=0.583000\n",
      "Epoch  6, CIFAR-10 Batch 3:  Loss= 0.679834, Accuracy=0.608600\n",
      "Epoch  6, CIFAR-10 Batch 4:  Loss= 0.985497, Accuracy=0.612800\n",
      "Epoch  6, CIFAR-10 Batch 5:  Loss= 0.780349, Accuracy=0.621200\n",
      "Epoch  7, CIFAR-10 Batch 1:  Loss= 0.823284, Accuracy=0.609000\n",
      "Epoch  7, CIFAR-10 Batch 2:  Loss= 0.707092, Accuracy=0.627400\n",
      "Epoch  7, CIFAR-10 Batch 3:  Loss= 0.548538, Accuracy=0.639600\n",
      "Epoch  7, CIFAR-10 Batch 4:  Loss= 0.791546, Accuracy=0.629600\n",
      "Epoch  7, CIFAR-10 Batch 5:  Loss= 0.622351, Accuracy=0.649400\n",
      "Epoch  8, CIFAR-10 Batch 1:  Loss= 0.662455, Accuracy=0.638600\n",
      "Epoch  8, CIFAR-10 Batch 2:  Loss= 0.576404, Accuracy=0.656800\n",
      "Epoch  8, CIFAR-10 Batch 3:  Loss= 0.409183, Accuracy=0.655000\n",
      "Epoch  8, CIFAR-10 Batch 4:  Loss= 0.608723, Accuracy=0.639200\n",
      "Epoch  8, CIFAR-10 Batch 5:  Loss= 0.585852, Accuracy=0.654400\n",
      "Epoch  9, CIFAR-10 Batch 1:  Loss= 0.572830, Accuracy=0.651600\n",
      "Epoch  9, CIFAR-10 Batch 2:  Loss= 0.416469, Accuracy=0.655200\n",
      "Epoch  9, CIFAR-10 Batch 3:  Loss= 0.391371, Accuracy=0.671600\n",
      "Epoch  9, CIFAR-10 Batch 4:  Loss= 0.527266, Accuracy=0.669400\n",
      "Epoch  9, CIFAR-10 Batch 5:  Loss= 0.448903, Accuracy=0.659400\n",
      "Epoch 10, CIFAR-10 Batch 1:  Loss= 0.544871, Accuracy=0.681000\n",
      "Epoch 10, CIFAR-10 Batch 2:  Loss= 0.353779, Accuracy=0.667000\n",
      "Epoch 10, CIFAR-10 Batch 3:  Loss= 0.350935, Accuracy=0.677600\n",
      "Epoch 10, CIFAR-10 Batch 4:  Loss= 0.408086, Accuracy=0.675800\n",
      "Epoch 10, CIFAR-10 Batch 5:  Loss= 0.324344, Accuracy=0.678000\n",
      "Epoch 11, CIFAR-10 Batch 1:  Loss= 0.452586, Accuracy=0.676600\n",
      "Epoch 11, CIFAR-10 Batch 2:  Loss= 0.315970, Accuracy=0.691000\n",
      "Epoch 11, CIFAR-10 Batch 3:  Loss= 0.316288, Accuracy=0.690200\n",
      "Epoch 11, CIFAR-10 Batch 4:  Loss= 0.417963, Accuracy=0.681000\n",
      "Epoch 11, CIFAR-10 Batch 5:  Loss= 0.300306, Accuracy=0.673200\n",
      "Epoch 12, CIFAR-10 Batch 1:  Loss= 0.437766, Accuracy=0.680600\n",
      "Epoch 12, CIFAR-10 Batch 2:  Loss= 0.277392, Accuracy=0.677400\n",
      "Epoch 12, CIFAR-10 Batch 3:  Loss= 0.261290, Accuracy=0.698400\n",
      "Epoch 12, CIFAR-10 Batch 4:  Loss= 0.325257, Accuracy=0.675000\n",
      "Epoch 12, CIFAR-10 Batch 5:  Loss= 0.242217, Accuracy=0.679400\n",
      "Epoch 13, CIFAR-10 Batch 1:  Loss= 0.401755, Accuracy=0.680400\n",
      "Epoch 13, CIFAR-10 Batch 2:  Loss= 0.221313, Accuracy=0.685800\n",
      "Epoch 13, CIFAR-10 Batch 3:  Loss= 0.211689, Accuracy=0.692000\n",
      "Epoch 13, CIFAR-10 Batch 4:  Loss= 0.267726, Accuracy=0.671600\n",
      "Epoch 13, CIFAR-10 Batch 5:  Loss= 0.237758, Accuracy=0.673200\n",
      "Epoch 14, CIFAR-10 Batch 1:  Loss= 0.364193, Accuracy=0.688400\n",
      "Epoch 14, CIFAR-10 Batch 2:  Loss= 0.198646, Accuracy=0.693400\n",
      "Epoch 14, CIFAR-10 Batch 3:  Loss= 0.155409, Accuracy=0.694800\n",
      "Epoch 14, CIFAR-10 Batch 4:  Loss= 0.236454, Accuracy=0.681400\n",
      "Epoch 14, CIFAR-10 Batch 5:  Loss= 0.205832, Accuracy=0.683800\n",
      "Epoch 15, CIFAR-10 Batch 1:  Loss= 0.348035, Accuracy=0.671400\n",
      "Epoch 15, CIFAR-10 Batch 2:  Loss= 0.166437, Accuracy=0.694000\n",
      "Epoch 15, CIFAR-10 Batch 3:  Loss= 0.158015, Accuracy=0.692600\n",
      "Epoch 15, CIFAR-10 Batch 4:  Loss= 0.223705, Accuracy=0.664800\n",
      "Epoch 15, CIFAR-10 Batch 5:  Loss= 0.153520, Accuracy=0.672600\n",
      "Epoch 16, CIFAR-10 Batch 1:  Loss= 0.254103, Accuracy=0.684400\n",
      "Epoch 16, CIFAR-10 Batch 2:  Loss= 0.173932, Accuracy=0.698200\n",
      "Epoch 16, CIFAR-10 Batch 3:  Loss= 0.137838, Accuracy=0.685000\n",
      "Epoch 16, CIFAR-10 Batch 4:  Loss= 0.155492, Accuracy=0.690000\n",
      "Epoch 16, CIFAR-10 Batch 5:  Loss= 0.128357, Accuracy=0.685200\n",
      "Epoch 17, CIFAR-10 Batch 1:  Loss= 0.233567, Accuracy=0.685600\n",
      "Epoch 17, CIFAR-10 Batch 2:  Loss= 0.155043, Accuracy=0.697600\n",
      "Epoch 17, CIFAR-10 Batch 3:  Loss= 0.108988, Accuracy=0.684400\n",
      "Epoch 17, CIFAR-10 Batch 4:  Loss= 0.109614, Accuracy=0.686600\n",
      "Epoch 17, CIFAR-10 Batch 5:  Loss= 0.107504, Accuracy=0.694200\n",
      "Epoch 18, CIFAR-10 Batch 1:  Loss= 0.227881, Accuracy=0.678200\n",
      "Epoch 18, CIFAR-10 Batch 2:  Loss= 0.171427, Accuracy=0.695200\n",
      "Epoch 18, CIFAR-10 Batch 3:  Loss= 0.094513, Accuracy=0.688800\n",
      "Epoch 18, CIFAR-10 Batch 4:  Loss= 0.159809, Accuracy=0.696200\n",
      "Epoch 18, CIFAR-10 Batch 5:  Loss= 0.110017, Accuracy=0.687400\n",
      "Epoch 19, CIFAR-10 Batch 1:  Loss= 0.192095, Accuracy=0.697600\n",
      "Epoch 19, CIFAR-10 Batch 2:  Loss= 0.131269, Accuracy=0.703800\n",
      "Epoch 19, CIFAR-10 Batch 3:  Loss= 0.082534, Accuracy=0.689400\n",
      "Epoch 19, CIFAR-10 Batch 4:  Loss= 0.093726, Accuracy=0.700600\n",
      "Epoch 19, CIFAR-10 Batch 5:  Loss= 0.086252, Accuracy=0.690800\n",
      "Epoch 20, CIFAR-10 Batch 1:  Loss= 0.170206, Accuracy=0.696800\n",
      "Epoch 20, CIFAR-10 Batch 2:  Loss= 0.088488, Accuracy=0.701800\n",
      "Epoch 20, CIFAR-10 Batch 3:  Loss= 0.094581, Accuracy=0.698400\n",
      "Epoch 20, CIFAR-10 Batch 4:  Loss= 0.070143, Accuracy=0.699600\n",
      "Epoch 20, CIFAR-10 Batch 5:  Loss= 0.055778, Accuracy=0.707000\n",
      "Epoch 21, CIFAR-10 Batch 1:  Loss= 0.168302, Accuracy=0.697400\n",
      "Epoch 21, CIFAR-10 Batch 2:  Loss= 0.074047, Accuracy=0.709600\n",
      "Epoch 21, CIFAR-10 Batch 3:  Loss= 0.085554, Accuracy=0.687800\n",
      "Epoch 21, CIFAR-10 Batch 4:  Loss= 0.065702, Accuracy=0.698600\n",
      "Epoch 21, CIFAR-10 Batch 5:  Loss= 0.046803, Accuracy=0.702800\n",
      "Epoch 22, CIFAR-10 Batch 1:  Loss= 0.106596, Accuracy=0.697600\n",
      "Epoch 22, CIFAR-10 Batch 2:  Loss= 0.064277, Accuracy=0.708800\n",
      "Epoch 22, CIFAR-10 Batch 3:  Loss= 0.054920, Accuracy=0.712400\n",
      "Epoch 22, CIFAR-10 Batch 4:  Loss= 0.048428, Accuracy=0.701600\n",
      "Epoch 22, CIFAR-10 Batch 5:  Loss= 0.041488, Accuracy=0.697800\n",
      "Epoch 23, CIFAR-10 Batch 1:  Loss= 0.082482, Accuracy=0.701000\n",
      "Epoch 23, CIFAR-10 Batch 2:  Loss= 0.054960, Accuracy=0.686200\n",
      "Epoch 23, CIFAR-10 Batch 3:  Loss= 0.052113, Accuracy=0.699800\n",
      "Epoch 23, CIFAR-10 Batch 4:  Loss= 0.046404, Accuracy=0.698400\n",
      "Epoch 23, CIFAR-10 Batch 5:  Loss= 0.035784, Accuracy=0.699000\n",
      "Epoch 24, CIFAR-10 Batch 1:  Loss= 0.058439, Accuracy=0.702600\n",
      "Epoch 24, CIFAR-10 Batch 2:  Loss= 0.042058, Accuracy=0.701200\n",
      "Epoch 24, CIFAR-10 Batch 3:  Loss= 0.077401, Accuracy=0.703600\n",
      "Epoch 24, CIFAR-10 Batch 4:  Loss= 0.044504, Accuracy=0.709000\n",
      "Epoch 24, CIFAR-10 Batch 5:  Loss= 0.026126, Accuracy=0.703600\n",
      "Epoch 25, CIFAR-10 Batch 1:  Loss= 0.042779, Accuracy=0.709000\n",
      "Epoch 25, CIFAR-10 Batch 2:  Loss= 0.053503, Accuracy=0.709200\n",
      "Epoch 25, CIFAR-10 Batch 3:  Loss= 0.050905, Accuracy=0.697600\n",
      "Epoch 25, CIFAR-10 Batch 4:  Loss= 0.028208, Accuracy=0.705000\n",
      "Epoch 25, CIFAR-10 Batch 5:  Loss= 0.023828, Accuracy=0.704400\n",
      "Epoch 26, CIFAR-10 Batch 1:  Loss= 0.044881, Accuracy=0.711200\n",
      "Epoch 26, CIFAR-10 Batch 2:  Loss= 0.035769, Accuracy=0.702200\n",
      "Epoch 26, CIFAR-10 Batch 3:  Loss= 0.044677, Accuracy=0.699800\n",
      "Epoch 26, CIFAR-10 Batch 4:  Loss= 0.066720, Accuracy=0.692000\n",
      "Epoch 26, CIFAR-10 Batch 5:  Loss= 0.030087, Accuracy=0.694200\n",
      "Epoch 27, CIFAR-10 Batch 1:  Loss= 0.042781, Accuracy=0.696200\n",
      "Epoch 27, CIFAR-10 Batch 2:  Loss= 0.037767, Accuracy=0.706200\n",
      "Epoch 27, CIFAR-10 Batch 3:  Loss= 0.028865, Accuracy=0.697200\n",
      "Epoch 27, CIFAR-10 Batch 4:  Loss= 0.022067, Accuracy=0.704200\n",
      "Epoch 27, CIFAR-10 Batch 5:  Loss= 0.025505, Accuracy=0.700000\n",
      "Epoch 28, CIFAR-10 Batch 1:  Loss= 0.037161, Accuracy=0.704600\n",
      "Epoch 28, CIFAR-10 Batch 2:  Loss= 0.019120, Accuracy=0.712200\n",
      "Epoch 28, CIFAR-10 Batch 3:  Loss= 0.028696, Accuracy=0.706200\n",
      "Epoch 28, CIFAR-10 Batch 4:  Loss= 0.034423, Accuracy=0.701200\n",
      "Epoch 28, CIFAR-10 Batch 5:  Loss= 0.015625, Accuracy=0.705200\n",
      "Epoch 29, CIFAR-10 Batch 1:  Loss= 0.034468, Accuracy=0.708400\n",
      "Epoch 29, CIFAR-10 Batch 2:  Loss= 0.020647, Accuracy=0.711000\n",
      "Epoch 29, CIFAR-10 Batch 3:  Loss= 0.024761, Accuracy=0.702800\n",
      "Epoch 29, CIFAR-10 Batch 4:  Loss= 0.019865, Accuracy=0.700600\n",
      "Epoch 29, CIFAR-10 Batch 5:  Loss= 0.025122, Accuracy=0.707000\n",
      "Epoch 30, CIFAR-10 Batch 1:  Loss= 0.033385, Accuracy=0.693600\n",
      "Epoch 30, CIFAR-10 Batch 2:  Loss= 0.017680, Accuracy=0.714200\n",
      "Epoch 30, CIFAR-10 Batch 3:  Loss= 0.019922, Accuracy=0.707800\n",
      "Epoch 30, CIFAR-10 Batch 4:  Loss= 0.014668, Accuracy=0.703000\n",
      "Epoch 30, CIFAR-10 Batch 5:  Loss= 0.012220, Accuracy=0.703800\n",
      "Epoch 31, CIFAR-10 Batch 1:  Loss= 0.024567, Accuracy=0.697200\n",
      "Epoch 31, CIFAR-10 Batch 2:  Loss= 0.016172, Accuracy=0.711800\n",
      "Epoch 31, CIFAR-10 Batch 3:  Loss= 0.013773, Accuracy=0.699000\n",
      "Epoch 31, CIFAR-10 Batch 4:  Loss= 0.014177, Accuracy=0.696200\n",
      "Epoch 31, CIFAR-10 Batch 5:  Loss= 0.007958, Accuracy=0.707000\n",
      "Epoch 32, CIFAR-10 Batch 1:  Loss= 0.029738, Accuracy=0.697000\n",
      "Epoch 32, CIFAR-10 Batch 2:  Loss= 0.016261, Accuracy=0.709000\n",
      "Epoch 32, CIFAR-10 Batch 3:  Loss= 0.030997, Accuracy=0.712000\n",
      "Epoch 32, CIFAR-10 Batch 4:  Loss= 0.030378, Accuracy=0.705200\n",
      "Epoch 32, CIFAR-10 Batch 5:  Loss= 0.017414, Accuracy=0.697200\n",
      "Epoch 33, CIFAR-10 Batch 1:  Loss= 0.034623, Accuracy=0.696000\n",
      "Epoch 33, CIFAR-10 Batch 2:  Loss= 0.021544, Accuracy=0.707400\n",
      "Epoch 33, CIFAR-10 Batch 3:  Loss= 0.022711, Accuracy=0.703600\n",
      "Epoch 33, CIFAR-10 Batch 4:  Loss= 0.016036, Accuracy=0.707600\n",
      "Epoch 33, CIFAR-10 Batch 5:  Loss= 0.011225, Accuracy=0.701400\n",
      "Epoch 34, CIFAR-10 Batch 1:  Loss= 0.023461, Accuracy=0.705200\n",
      "Epoch 34, CIFAR-10 Batch 2:  Loss= 0.013548, Accuracy=0.708200\n",
      "Epoch 34, CIFAR-10 Batch 3:  Loss= 0.029892, Accuracy=0.698200\n",
      "Epoch 34, CIFAR-10 Batch 4:  Loss= 0.010528, Accuracy=0.703200\n",
      "Epoch 34, CIFAR-10 Batch 5:  Loss= 0.008482, Accuracy=0.707200\n",
      "Epoch 35, CIFAR-10 Batch 1:  Loss= 0.020504, Accuracy=0.690400\n",
      "Epoch 35, CIFAR-10 Batch 2:  Loss= 0.013287, Accuracy=0.714200\n",
      "Epoch 35, CIFAR-10 Batch 3:  Loss= 0.006750, Accuracy=0.718400\n",
      "Epoch 35, CIFAR-10 Batch 4:  Loss= 0.015289, Accuracy=0.712200\n",
      "Epoch 35, CIFAR-10 Batch 5:  Loss= 0.008303, Accuracy=0.704200\n",
      "Epoch 36, CIFAR-10 Batch 1:  Loss= 0.024800, Accuracy=0.698600\n",
      "Epoch 36, CIFAR-10 Batch 2:  Loss= 0.016449, Accuracy=0.707200\n",
      "Epoch 36, CIFAR-10 Batch 3:  Loss= 0.007768, Accuracy=0.709800\n",
      "Epoch 36, CIFAR-10 Batch 4:  Loss= 0.018405, Accuracy=0.696600\n",
      "Epoch 36, CIFAR-10 Batch 5:  Loss= 0.005587, Accuracy=0.705600\n",
      "Epoch 37, CIFAR-10 Batch 1:  Loss= 0.015678, Accuracy=0.706400\n",
      "Epoch 37, CIFAR-10 Batch 2:  Loss= 0.006545, Accuracy=0.708600\n",
      "Epoch 37, CIFAR-10 Batch 3:  Loss= 0.006641, Accuracy=0.710200\n",
      "Epoch 37, CIFAR-10 Batch 4:  Loss= 0.008499, Accuracy=0.712800\n",
      "Epoch 37, CIFAR-10 Batch 5:  Loss= 0.012376, Accuracy=0.718200\n",
      "Epoch 38, CIFAR-10 Batch 1:  Loss= 0.014807, Accuracy=0.694400\n",
      "Epoch 38, CIFAR-10 Batch 2:  Loss= 0.007689, Accuracy=0.701200\n",
      "Epoch 38, CIFAR-10 Batch 3:  Loss= 0.009176, Accuracy=0.709400\n",
      "Epoch 38, CIFAR-10 Batch 4:  Loss= 0.007355, Accuracy=0.699000\n",
      "Epoch 38, CIFAR-10 Batch 5:  Loss= 0.010393, Accuracy=0.704600\n",
      "Epoch 39, CIFAR-10 Batch 1:  Loss= 0.022170, Accuracy=0.682200\n",
      "Epoch 39, CIFAR-10 Batch 2:  Loss= 0.006096, Accuracy=0.698400\n",
      "Epoch 39, CIFAR-10 Batch 3:  Loss= 0.007993, Accuracy=0.704400\n",
      "Epoch 39, CIFAR-10 Batch 4:  Loss= 0.008580, Accuracy=0.700400\n",
      "Epoch 39, CIFAR-10 Batch 5:  Loss= 0.005627, Accuracy=0.714600\n",
      "Epoch 40, CIFAR-10 Batch 1:  Loss= 0.011394, Accuracy=0.690800\n",
      "Epoch 40, CIFAR-10 Batch 2:  Loss= 0.006721, Accuracy=0.710600\n",
      "Epoch 40, CIFAR-10 Batch 3:  Loss= 0.017881, Accuracy=0.708800\n",
      "Epoch 40, CIFAR-10 Batch 4:  Loss= 0.005414, Accuracy=0.703800\n",
      "Epoch 40, CIFAR-10 Batch 5:  Loss= 0.012088, Accuracy=0.707200\n",
      "Epoch 41, CIFAR-10 Batch 1:  Loss= 0.011060, Accuracy=0.695400\n",
      "Epoch 41, CIFAR-10 Batch 2:  Loss= 0.003039, Accuracy=0.716200\n",
      "Epoch 41, CIFAR-10 Batch 3:  Loss= 0.007101, Accuracy=0.711800\n",
      "Epoch 41, CIFAR-10 Batch 4:  Loss= 0.009836, Accuracy=0.707800\n",
      "Epoch 41, CIFAR-10 Batch 5:  Loss= 0.005040, Accuracy=0.703800\n",
      "Epoch 42, CIFAR-10 Batch 1:  Loss= 0.006777, Accuracy=0.686400\n",
      "Epoch 42, CIFAR-10 Batch 2:  Loss= 0.003990, Accuracy=0.707400\n",
      "Epoch 42, CIFAR-10 Batch 3:  Loss= 0.008486, Accuracy=0.710800\n",
      "Epoch 42, CIFAR-10 Batch 4:  Loss= 0.008995, Accuracy=0.703800\n",
      "Epoch 42, CIFAR-10 Batch 5:  Loss= 0.003906, Accuracy=0.703200\n",
      "Epoch 43, CIFAR-10 Batch 1:  Loss= 0.007776, Accuracy=0.696200\n",
      "Epoch 43, CIFAR-10 Batch 2:  Loss= 0.005012, Accuracy=0.709400\n",
      "Epoch 43, CIFAR-10 Batch 3:  Loss= 0.006849, Accuracy=0.704600\n",
      "Epoch 43, CIFAR-10 Batch 4:  Loss= 0.004349, Accuracy=0.697600\n",
      "Epoch 43, CIFAR-10 Batch 5:  Loss= 0.008284, Accuracy=0.706600\n",
      "Epoch 44, CIFAR-10 Batch 1:  Loss= 0.010183, Accuracy=0.697600\n",
      "Epoch 44, CIFAR-10 Batch 2:  Loss= 0.005633, Accuracy=0.709800\n",
      "Epoch 44, CIFAR-10 Batch 3:  Loss= 0.005361, Accuracy=0.706600\n",
      "Epoch 44, CIFAR-10 Batch 4:  Loss= 0.004928, Accuracy=0.697200\n",
      "Epoch 44, CIFAR-10 Batch 5:  Loss= 0.005301, Accuracy=0.708200\n",
      "Epoch 45, CIFAR-10 Batch 1:  Loss= 0.008092, Accuracy=0.712800\n",
      "Epoch 45, CIFAR-10 Batch 2:  Loss= 0.004937, Accuracy=0.705800\n",
      "Epoch 45, CIFAR-10 Batch 3:  Loss= 0.003656, Accuracy=0.714800\n",
      "Epoch 45, CIFAR-10 Batch 4:  Loss= 0.006040, Accuracy=0.694000\n",
      "Epoch 45, CIFAR-10 Batch 5:  Loss= 0.006497, Accuracy=0.704000\n",
      "Epoch 46, CIFAR-10 Batch 1:  Loss= 0.005528, Accuracy=0.713000\n",
      "Epoch 46, CIFAR-10 Batch 2:  Loss= 0.004874, Accuracy=0.713200\n",
      "Epoch 46, CIFAR-10 Batch 3:  Loss= 0.005709, Accuracy=0.707800\n",
      "Epoch 46, CIFAR-10 Batch 4:  Loss= 0.009239, Accuracy=0.696000\n",
      "Epoch 46, CIFAR-10 Batch 5:  Loss= 0.004966, Accuracy=0.696200\n",
      "Epoch 47, CIFAR-10 Batch 1:  Loss= 0.009484, Accuracy=0.705400\n",
      "Epoch 47, CIFAR-10 Batch 2:  Loss= 0.009308, Accuracy=0.707400\n",
      "Epoch 47, CIFAR-10 Batch 3:  Loss= 0.004485, Accuracy=0.690400\n",
      "Epoch 47, CIFAR-10 Batch 4:  Loss= 0.008328, Accuracy=0.701000\n",
      "Epoch 47, CIFAR-10 Batch 5:  Loss= 0.005521, Accuracy=0.717800\n",
      "Epoch 48, CIFAR-10 Batch 1:  Loss= 0.006424, Accuracy=0.719600\n",
      "Epoch 48, CIFAR-10 Batch 2:  Loss= 0.008048, Accuracy=0.718800\n",
      "Epoch 48, CIFAR-10 Batch 3:  Loss= 0.006373, Accuracy=0.713000\n",
      "Epoch 48, CIFAR-10 Batch 4:  Loss= 0.010964, Accuracy=0.664800\n",
      "Epoch 48, CIFAR-10 Batch 5:  Loss= 0.003483, Accuracy=0.706600\n",
      "Epoch 49, CIFAR-10 Batch 1:  Loss= 0.006546, Accuracy=0.712400\n",
      "Epoch 49, CIFAR-10 Batch 2:  Loss= 0.008902, Accuracy=0.711800\n",
      "Epoch 49, CIFAR-10 Batch 3:  Loss= 0.004755, Accuracy=0.704000\n",
      "Epoch 49, CIFAR-10 Batch 4:  Loss= 0.004342, Accuracy=0.694000\n",
      "Epoch 49, CIFAR-10 Batch 5:  Loss= 0.005327, Accuracy=0.711800\n",
      "Epoch 50, CIFAR-10 Batch 1:  Loss= 0.008152, Accuracy=0.707200\n",
      "Epoch 50, CIFAR-10 Batch 2:  Loss= 0.002910, Accuracy=0.713800\n",
      "Epoch 50, CIFAR-10 Batch 3:  Loss= 0.007582, Accuracy=0.716200\n",
      "Epoch 50, CIFAR-10 Batch 4:  Loss= 0.006314, Accuracy=0.696200\n",
      "Epoch 50, CIFAR-10 Batch 5:  Loss= 0.006265, Accuracy=0.708800\n"
     ]
    }
   ],
   "source": [
    "\"\"\"\n",
    "DON'T MODIFY ANYTHING IN THIS CELL\n",
    "\"\"\"\n",
    "save_model_path = './image_classification'\n",
    "\n",
    "print('Training...')\n",
    "with tf.Session() as sess:\n",
    "    # Initializing the variables\n",
    "    sess.run(tf.global_variables_initializer())\n",
    "    \n",
    "    # Training cycle\n",
    "    for epoch in range(epochs):\n",
    "        # Loop over all batches\n",
    "        n_batches = 5\n",
    "        for batch_i in range(1, n_batches + 1):\n",
    "            for batch_features, batch_labels in helper.load_preprocess_training_batch(batch_i, batch_size):\n",
    "                train_neural_network(sess, optimizer, keep_probability, batch_features, batch_labels)\n",
    "            print('Epoch {:>2}, CIFAR-10 Batch {}:  '.format(epoch + 1, batch_i), end='')\n",
    "            print_stats(sess, batch_features, batch_labels, cost, accuracy)\n",
    "            \n",
    "    # Save Model\n",
    "    saver = tf.train.Saver()\n",
    "    save_path = saver.save(sess, save_model_path)"
   ]
  },
  {
   "cell_type": "markdown",
   "metadata": {
    "deletable": true,
    "editable": true
   },
   "source": [
    "# Checkpoint\n",
    "The model has been saved to disk.\n",
    "## Test Model\n",
    "Test your model against the test dataset.  This will be your final accuracy. You should have an accuracy greater than 50%. If you don't, keep tweaking the model architecture and parameters."
   ]
  },
  {
   "cell_type": "code",
   "execution_count": 24,
   "metadata": {
    "collapsed": false,
    "deletable": true,
    "editable": true
   },
   "outputs": [
    {
     "name": "stdout",
     "output_type": "stream",
     "text": [
      "Testing Accuracy: 0.7001582278481012\n",
      "\n"
     ]
    },
    {
     "data": {
      "image/png": "[encoded data removed]",
      "text/plain": [
       "<matplotlib.figure.Figure at 0x7ff4c70dc828>"
      ]
     },
     "metadata": {
      "image/png": {
       "height": 319,
       "width": 355
      }
     },
     "output_type": "display_data"
    }
   ],
   "source": [
    "\"\"\"\n",
    "DON'T MODIFY ANYTHING IN THIS CELL\n",
    "\"\"\"\n",
    "%matplotlib inline\n",
    "%config InlineBackend.figure_format = 'retina'\n",
    "\n",
    "import tensorflow as tf\n",
    "import pickle\n",
    "import helper\n",
    "import random\n",
    "\n",
    "# Set batch size if not already set\n",
    "try:\n",
    "    if batch_size:\n",
    "        pass\n",
    "except NameError:\n",
    "    batch_size = 64\n",
    "\n",
    "save_model_path = './image_classification'\n",
    "n_samples = 4\n",
    "top_n_predictions = 3\n",
    "\n",
    "def test_model():\n",
    "    \"\"\"\n",
    "    Test the saved model against the test dataset\n",
    "    \"\"\"\n",
    "\n",
    "    test_features, test_labels = pickle.load(open('preprocess_training.p', mode='rb'))\n",
    "    loaded_graph = tf.Graph()\n",
    "\n",
    "    with tf.Session(graph=loaded_graph) as sess:\n",
    "        # Load model\n",
    "        loader = tf.train.import_meta_graph(save_model_path + '.meta')\n",
    "        loader.restore(sess, save_model_path)\n",
    "\n",
    "        # Get Tensors from loaded model\n",
    "        loaded_x = loaded_graph.get_tensor_by_name('x:0')\n",
    "        loaded_y = loaded_graph.get_tensor_by_name('y:0')\n",
    "        loaded_keep_prob = loaded_graph.get_tensor_by_name('keep_prob:0')\n",
    "        loaded_logits = loaded_graph.get_tensor_by_name('logits:0')\n",
    "        loaded_acc = loaded_graph.get_tensor_by_name('accuracy:0')\n",
    "        \n",
    "        # Get accuracy in batches for memory limitations\n",
    "        test_batch_acc_total = 0\n",
    "        test_batch_count = 0\n",
    "        \n",
    "        for train_feature_batch, train_label_batch in helper.batch_features_labels(test_features, test_labels, batch_size):\n",
    "            test_batch_acc_total += sess.run(\n",
    "                loaded_acc,\n",
    "                feed_dict={loaded_x: train_feature_batch, loaded_y: train_label_batch, loaded_keep_prob: 1.0})\n",
    "            test_batch_count += 1\n",
    "\n",
    "        print('Testing Accuracy: {}\\n'.format(test_batch_acc_total/test_batch_count))\n",
    "\n",
    "        # Print Random Samples\n",
    "        random_test_features, random_test_labels = tuple(zip(*random.sample(list(zip(test_features, test_labels)), n_samples)))\n",
    "        random_test_predictions = sess.run(\n",
    "            tf.nn.top_k(tf.nn.softmax(loaded_logits), top_n_predictions),\n",
    "            feed_dict={loaded_x: random_test_features, loaded_y: random_test_labels, loaded_keep_prob: 1.0})\n",
    "        helper.display_image_predictions(random_test_features, random_test_labels, random_test_predictions)\n",
    "\n",
    "\n",
    "test_model()"
   ]
  },
  {
   "cell_type": "markdown",
   "metadata": {
    "deletable": true,
    "editable": true
   },
   "source": [
    "## Why 50-70% Accuracy?\n",
    "You might be wondering why you can't get an accuracy any higher. First things first, 50% isn't bad for a simple CNN.  Pure guessing would get you 10% accuracy. However, you might notice people are getting scores [well above 70%](http://rodrigob.github.io/are_we_there_yet/build/classification_datasets_results.html#43494641522d3130).  That's because we haven't taught you all there is to know about neural networks. We still need to cover a few more techniques.\n",
    "## Submitting This Project\n",
    "When submitting this project, make sure to run all the cells before saving the notebook.  Save the notebook file as \"dlnd_image_classification.ipynb\" and save it as a HTML file under \"File\" -> \"Download as\".  Include the \"helper.py\" and \"problem_unittests.py\" files in your submission."
   ]
  }
 ],
 "metadata": {
  "kernelspec": {
   "display_name": "Python 3",
   "language": "python",
   "name": "python3"
  },
  "language_info": {
   "codemirror_mode": {
    "name": "ipython",
    "version": 3
   },
   "file_extension": ".py",
   "mimetype": "text/x-python",
   "name": "python",
   "nbconvert_exporter": "python",
   "pygments_lexer": "ipython3",
   "version": "3.5.2"
  },
  "widgets": {
   "state": {},
   "version": "1.1.2"
  }
 },
 "nbformat": 4,
 "nbformat_minor": 0
}
